{
 "cells": [
  {
   "cell_type": "markdown",
   "id": "5e98286c",
   "metadata": {},
   "source": [
    "## Q1. \n",
    "Write a python program to sum of all the positive integers that are not bigger than n (i.e. \n",
    "<=n) and are not divisible by 3 (%3!=0) after accepting the value of integer n from the \n",
    "user"
   ]
  },
  {
   "cell_type": "code",
   "execution_count": 7,
   "id": "fcb576e5",
   "metadata": {},
   "outputs": [
    {
     "name": "stdout",
     "output_type": "stream",
     "text": [
      "Enter a number: 3\n",
      "The sum of first n natural numbers is 6.0\n"
     ]
    }
   ],
   "source": [
    "num = float(input(\"Enter a number: \"))\n",
    "if num > 0:\n",
    "    sum1 = 0\n",
    "    while(num > 0):\n",
    "        sum1=sum1+num\n",
    "        num=num-1\n",
    "    print(\"The sum of first n natural numbers is\",sum1)   \n",
    "    \n",
    "elif num == 0:\n",
    "   print(\"You have entered an invalid number. Exiting the program. \")\n",
    "else:\n",
    "   print(\"You have entered an invalid number. Exiting the program.\")"
   ]
  },
  {
   "cell_type": "markdown",
   "id": "17ea0f5d",
   "metadata": {},
   "source": [
    "# Q2.\n",
    "An integer, greater than 1, that is only divisible by 1 and itself is called a prime number. \n",
    "All other numbers greater than 1 are called composite numbers. The integers 0 and 1 are \n",
    "neither prime nor composite. Write a python program that requests a positive integer \n",
    "from the user, determines if it is a prime, composite or neither prime or composite and \n",
    "prints the message."
   ]
  },
  {
   "cell_type": "code",
   "execution_count": null,
   "id": "7a093bd1",
   "metadata": {},
   "outputs": [],
   "source": []
  },
  {
   "cell_type": "code",
   "execution_count": null,
   "id": "b16af327",
   "metadata": {},
   "outputs": [],
   "source": []
  },
  {
   "cell_type": "code",
   "execution_count": 11,
   "id": "09d98958",
   "metadata": {},
   "outputs": [
    {
     "name": "stdout",
     "output_type": "stream",
     "text": [
      "Enter any number:1\n",
      "1 Number is neither prime nor composite\n"
     ]
    }
   ],
   "source": [
    "\n",
    "#Input a number and check if the number is prime or composite number\n",
    "n= int(input(\"Enter a positive integer:\"))\n",
    "if(n ==0 or n == 1):\n",
    "    print(n,\"Number is neither prime nor composite\")\n",
    "elif n>1 :\n",
    "    for i in range(2,n):\n",
    "        if(n%i == 0):\n",
    "            print(n,\"is not prime but composite number\")\n",
    "            break\n",
    "    else:\n",
    "        print(n,\"number is prime but not composite number\")\n",
    "else :\n",
    "    print(\"You have entered an invalid number exiting the program \")"
   ]
  },
  {
   "cell_type": "markdown",
   "id": "206c3a0b",
   "metadata": {},
   "source": [
    "# Q3.\n",
    "Write a program that takes as input two opposite corners of a rectangle: (x1,y1) and \n",
    "(x2,y2). Assume the sides of the rectangle are parallel to the x and y axes. Finally, the \n",
    "user is prompted for the coordinates of a third point (x,y). The program should print \n",
    "Boolean value True or False based on whether the point (x,y) lies INSIDE the rectangle. \n",
    "If the point lies ON or OUTSIDE the rectangle, the program should print False."
   ]
  },
  {
   "cell_type": "code",
   "execution_count": 14,
   "id": "e36879bf",
   "metadata": {},
   "outputs": [
    {
     "name": "stdout",
     "output_type": "stream",
     "text": [
      "Enter x1 :\n",
      "None1\n",
      "Enter x2 :\n",
      "None2\n",
      "Enter y1 :\n",
      "None1\n",
      "Enter y2 :\n",
      "None2\n",
      "Enter x: 2\n",
      "Enter y: 2\n",
      "False\n"
     ]
    }
   ],
   "source": [
    "x1 = float(input(print(\"Enter x1 :\")))\n",
    "x2 = float(input(print(\"Enter x2 :\")))\n",
    "y1 = float(input(print(\"Enter y1 :\")))\n",
    "y2 = float(input(print(\"Enter y2 :\")))\n",
    "\n",
    "\n",
    "\n",
    "if (x1 == x2 and y1 < y2):\n",
    "    print(\"You have entered two points that failed to create a rectangle. Exiting the program\")\n",
    "\n",
    "# Else, prompt the user to enter the (x, y) coordinates\n",
    "else:\n",
    "    x = float(input(\"Enter x: \"))\n",
    "    y = float(input(\"Enter y: \"))\n",
    "    \n",
    "    # Print if the (x, y) coordinates are inside the rectangle (true), or on or outside it (false)\n",
    "    result = (x > x1 and x < x2 and y > y1 and y < y2)\n",
    "    print(result)"
   ]
  },
  {
   "cell_type": "markdown",
   "id": "54019a0e",
   "metadata": {},
   "source": [
    "# Q.4.\n",
    "Write a Python function called print_square() that accepts an integer as input and prints \n",
    "out the square of all numbers between 1 and that integer (both included). Then call the \n",
    "function from main() to get the value of n from the user. Note: Your submission MUST \n",
    "consist of the function definitions for both main() as well as print_square(). "
   ]
  },
  {
   "cell_type": "code",
   "execution_count": 20,
   "id": "021245fa",
   "metadata": {},
   "outputs": [
    {
     "name": "stdout",
     "output_type": "stream",
     "text": [
      "Enter a number: 3\n",
      "Positive number\n",
      "Please Enter any Number: 3\n",
      "The square of3\n"
     ]
    },
    {
     "ename": "TypeError",
     "evalue": "can only concatenate str (not \"int\") to str",
     "output_type": "error",
     "traceback": [
      "\u001b[1;31m---------------------------------------------------------------------------\u001b[0m",
      "\u001b[1;31mTypeError\u001b[0m                                 Traceback (most recent call last)",
      "\u001b[1;32m<ipython-input-20-94bb7917f6f9>\u001b[0m in \u001b[0;36m<module>\u001b[1;34m\u001b[0m\n\u001b[0;32m      8\u001b[0m \u001b[1;33m\u001b[0m\u001b[0m\n\u001b[0;32m      9\u001b[0m     \u001b[1;32mwhile\u001b[0m \u001b[1;33m(\u001b[0m \u001b[0mi\u001b[0m \u001b[1;33m<=\u001b[0m \u001b[0mnum\u001b[0m\u001b[1;33m)\u001b[0m\u001b[1;33m:\u001b[0m\u001b[1;33m\u001b[0m\u001b[1;33m\u001b[0m\u001b[0m\n\u001b[1;32m---> 10\u001b[1;33m         \u001b[0mprint\u001b[0m \u001b[1;33m(\u001b[0m\u001b[1;34m\"the square of \"\u001b[0m \u001b[1;33m+\u001b[0m \u001b[0mi\u001b[0m \u001b[1;33m+\u001b[0m\u001b[1;34m\"is \"\u001b[0m \u001b[1;33m+\u001b[0m \u001b[0mi\u001b[0m\u001b[1;33m*\u001b[0m\u001b[0mi\u001b[0m\u001b[1;33m)\u001b[0m\u001b[1;33m\u001b[0m\u001b[1;33m\u001b[0m\u001b[0m\n\u001b[0m\u001b[0;32m     11\u001b[0m         \u001b[0mi\u001b[0m \u001b[1;33m=\u001b[0m \u001b[0mi\u001b[0m \u001b[1;33m+\u001b[0m \u001b[1;36m1\u001b[0m\u001b[1;33m\u001b[0m\u001b[1;33m\u001b[0m\u001b[0m\n\u001b[0;32m     12\u001b[0m \u001b[1;33m\u001b[0m\u001b[0m\n",
      "\u001b[1;31mTypeError\u001b[0m: can only concatenate str (not \"int\") to str"
     ]
    }
   ],
   "source": [
    "num = float(input(\"Enter a number: \"))\n",
    "if num > 0:\n",
    "    print(\"Positive number\")\n",
    "    number = int(input(\"Please Enter any Number: \"))\n",
    "    i = 1\n",
    "\n",
    "    print(\"The square of{}\".format(number)) \n",
    "\n",
    "    while ( i <= num):\n",
    "        print (\"the square of \" + i +\"is \" + i*i)\n",
    "        i = i + 1\n",
    "   \n",
    "elif num == 0:\n",
    "   print(\"Zero\")\n",
    "else:\n",
    "   print(\"You have entered an invalid number. Exiting the program.\")"
   ]
  },
  {
   "cell_type": "code",
   "execution_count": null,
   "id": "70db02f3",
   "metadata": {},
   "outputs": [],
   "source": []
  }
 ],
 "metadata": {
  "kernelspec": {
   "display_name": "Python 3",
   "language": "python",
   "name": "python3"
  },
  "language_info": {
   "codemirror_mode": {
    "name": "ipython",
    "version": 3
   },
   "file_extension": ".py",
   "mimetype": "text/x-python",
   "name": "python",
   "nbconvert_exporter": "python",
   "pygments_lexer": "ipython3",
   "version": "3.8.8"
  }
 },
 "nbformat": 4,
 "nbformat_minor": 5
}
