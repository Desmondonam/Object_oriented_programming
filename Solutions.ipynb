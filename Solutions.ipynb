{
 "cells": [
  {
   "cell_type": "markdown",
   "id": "c553c94d",
   "metadata": {},
   "source": [
    "## Q1. \n",
    "Write a python program to sum of all the positive integers that are not bigger than n (i.e. \n",
    "<=n) and are not divisible by 3 (%3!=0) after accepting the value of integer n from the \n",
    "user"
   ]
  },
  {
   "cell_type": "code",
   "execution_count": 7,
   "id": "d37d340f",
   "metadata": {},
   "outputs": [
    {
     "name": "stdout",
     "output_type": "stream",
     "text": [
      "Enter a number: 3\n",
      "The sum of first n natural numbers is 6.0\n"
     ]
    }
   ],
   "source": [
    "num = float(input(\"Enter a number: \"))\n",
    "if num > 0:\n",
    "    sum1 = 0\n",
    "    while(num > 0):\n",
    "        sum1=sum1+num\n",
    "        num=num-1\n",
    "    print(\"The sum of first n natural numbers is\",sum1)   \n",
    "    \n",
    "elif num == 0:\n",
    "   print(\"You have entered an invalid number. Exiting the program. \")\n",
    "else:\n",
    "   print(\"You have entered an invalid number. Exiting the program.\")"
   ]
  },
  {
   "cell_type": "markdown",
   "id": "a3239750",
   "metadata": {},
   "source": [
    "# Q2.\n",
    "An integer, greater than 1, that is only divisible by 1 and itself is called a prime number. \n",
    "All other numbers greater than 1 are called composite numbers. The integers 0 and 1 are \n",
    "neither prime nor composite. Write a python program that requests a positive integer \n",
    "from the user, determines if it is a prime, composite or neither prime or composite and \n",
    "prints the message."
   ]
  },
  {
   "cell_type": "code",
   "execution_count": 11,
   "id": "1a4e9cad",
   "metadata": {},
   "outputs": [
    {
     "name": "stdout",
     "output_type": "stream",
     "text": [
      "Enter any number:1\n",
      "1 Number is neither prime nor composite\n"
     ]
    }
   ],
   "source": [
    "\n",
    "#Input a number and check if the number is prime or composite number\n",
    "n= int(input(\"Enter a positive integer:\"))\n",
    "if(n ==0 or n == 1):\n",
    "    print(n,\"Number is neither prime nor composite\")\n",
    "elif n>1 :\n",
    "    for i in range(2,n):\n",
    "        if(n%i == 0):\n",
    "            print(n,\"is not prime but composite number\")\n",
    "            break\n",
    "    else:\n",
    "        print(n,\"number is prime but not composite number\")\n",
    "else :\n",
    "    print(\"You have entered an invalid number exiting the program \")"
   ]
  },
  {
   "cell_type": "markdown",
   "id": "0f635fe9",
   "metadata": {},
   "source": [
    "# Q3.\n",
    "Write a program that takes as input two opposite corners of a rectangle: (x1,y1) and \n",
    "(x2,y2). Assume the sides of the rectangle are parallel to the x and y axes. Finally, the \n",
    "user is prompted for the coordinates of a third point (x,y). The program should print \n",
    "Boolean value True or False based on whether the point (x,y) lies INSIDE the rectangle. \n",
    "If the point lies ON or OUTSIDE the rectangle, the program should print False."
   ]
  },
  {
   "cell_type": "code",
   "execution_count": 13,
   "id": "69293256",
   "metadata": {},
   "outputs": [
    {
     "ename": "SyntaxError",
     "evalue": "invalid syntax (<ipython-input-13-7196ef1e5ac0>, line 9)",
     "output_type": "error",
     "traceback": [
      "\u001b[1;36m  File \u001b[1;32m\"<ipython-input-13-7196ef1e5ac0>\"\u001b[1;36m, line \u001b[1;32m9\u001b[0m\n\u001b[1;33m    if ( u==0 || v==0 || A==D || u==v):\u001b[0m\n\u001b[1;37m               ^\u001b[0m\n\u001b[1;31mSyntaxError\u001b[0m\u001b[1;31m:\u001b[0m invalid syntax\n"
     ]
    }
   ],
   "source": [
    "A = [a1,a2];\n",
    "B = [b1,b2];\n",
    "C = [c1,c2];\n",
    "D = [d1,d2];\n",
    "\n",
    "u = (b1-a1,b2-a2);\n",
    "v = (c1-a1,c2-a2);\n",
    "\n",
    "if ( u==0 || v==0 || A==D || u==v):\n",
    "    {!rectangle} // get the obvious out of the way\n",
    "\n",
    "var dot = u1*v1 + u2*v2;\n",
    "var pgram = [a1+u1+v1,a2+u2+v2]\n",
    "if (dot == 0 && pgram == D) {rectangle} // will be true 50% of the time if rectangle\n",
    "else if (pgram == D) {\n",
    "    w = [d1-a1,d2-a2];\n",
    "\n",
    "    if (w1*u1 + w2*u2 == 0) {rectangle} //25% chance\n",
    "    else if (w1*v1 + w2*v2 == 0) {rectangle} //25% chance\n",
    "\n",
    "    else {!rectangle}\n",
    "}\n",
    "else {!rectangle}"
   ]
  },
  {
   "cell_type": "code",
   "execution_count": null,
   "id": "1c0ad8ef",
   "metadata": {},
   "outputs": [],
   "source": []
  }
 ],
 "metadata": {
  "kernelspec": {
   "display_name": "Python 3",
   "language": "python",
   "name": "python3"
  },
  "language_info": {
   "codemirror_mode": {
    "name": "ipython",
    "version": 3
   },
   "file_extension": ".py",
   "mimetype": "text/x-python",
   "name": "python",
   "nbconvert_exporter": "python",
   "pygments_lexer": "ipython3",
   "version": "3.8.8"
  }
 },
 "nbformat": 4,
 "nbformat_minor": 5
}
